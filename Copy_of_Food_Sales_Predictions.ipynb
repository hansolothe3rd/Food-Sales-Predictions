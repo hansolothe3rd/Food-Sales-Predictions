{
  "nbformat": 4,
  "nbformat_minor": 0,
  "metadata": {
    "colab": {
      "provenance": [],
      "authorship_tag": "ABX9TyPcuGq4F5xGxIyhfitiMBaW",
      "include_colab_link": true
    },
    "kernelspec": {
      "name": "python3",
      "display_name": "Python 3"
    },
    "language_info": {
      "name": "python"
    }
  },
  "cells": [
    {
      "cell_type": "markdown",
      "metadata": {
        "id": "view-in-github",
        "colab_type": "text"
      },
      "source": [
        "<a href=\"https://colab.research.google.com/github/hansolothe3rd/Food-Sales-Predictions/blob/main/Copy_of_Food_Sales_Predictions.ipynb\" target=\"_parent\"><img src=\"https://colab.research.google.com/assets/colab-badge.svg\" alt=\"Open In Colab\"/></a>"
      ]
    },
    {
      "cell_type": "markdown",
      "source": [
        "# Project 1 - Part 1\n",
        "\n",
        "# Daniel Barella  "
      ],
      "metadata": {
        "id": "ScMqEFsQ66gp"
      }
    },
    {
      "cell_type": "markdown",
      "source": [
        "## Loading Data\n"
      ],
      "metadata": {
        "id": "lWIbgQoD7hDY"
      }
    },
    {
      "cell_type": "markdown",
      "source": [
        "## Data Cleaning\n"
      ],
      "metadata": {
        "id": "wcYaive97lD6"
      }
    },
    {
      "cell_type": "markdown",
      "source": [
        "## Exploritory Visuals\n"
      ],
      "metadata": {
        "id": "hZ-XCo5L7tCA"
      }
    },
    {
      "cell_type": "markdown",
      "source": [
        "## Explanitory Visuals"
      ],
      "metadata": {
        "id": "9Q5--Fox7wgl"
      }
    }
  ]
}