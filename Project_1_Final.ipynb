{
  "nbformat": 4,
  "nbformat_minor": 0,
  "metadata": {
    "colab": {
      "provenance": [],
      "mount_file_id": "1xx6KvuNO8w_wzW-ywR_tR6X3_cca2n8B",
      "authorship_tag": "ABX9TyNi7Vu4PM/X6kYDYES8T8P5",
      "include_colab_link": true
    },
    "kernelspec": {
      "name": "python3",
      "display_name": "Python 3"
    },
    "language_info": {
      "name": "python"
    }
  },
  "cells": [
    {
      "cell_type": "markdown",
      "metadata": {
        "id": "view-in-github",
        "colab_type": "text"
      },
      "source": [
        "<a href=\"https://colab.research.google.com/github/hansolothe3rd/Food-Sales-Predictions/blob/main/Project_1_Final.ipynb\" target=\"_parent\"><img src=\"https://colab.research.google.com/assets/colab-badge.svg\" alt=\"Open In Colab\"/></a>"
      ]
    },
    {
      "cell_type": "markdown",
      "source": [
        "# Project 1 - Final\n",
        "- Daniel Barella\n",
        "- 11/15/22"
      ],
      "metadata": {
        "id": "xv4K1xgpzZHk"
      }
    },
    {
      "cell_type": "markdown",
      "source": [
        "# Assignment:\n",
        "\n",
        "  This week, you will finalize your sales prediction project. The goal of this is to help the retailer understand the properties of products and outlets that play crucial roles in predicting sales."
      ],
      "metadata": {
        "id": "zkXJTPgv0S5J"
      }
    },
    {
      "cell_type": "markdown",
      "source": [
        "1. Your first task is to build a linear regression model to predict sales.\n",
        "\n",
        "- Build a linear regression model.\n",
        "- Evaluate the performance of your model based on r^2.\n",
        "- Evaluate the performance of your model based on rmse.\n",
        "\n",
        "2. Your second task is to build a regression tree model to predict sales.\n",
        "\n",
        "- Build a simple regression tree model.\n",
        "- Compare the performance of your model based on r^2.\n",
        "- Compare the performance of your model based on rmse.\n",
        "\n",
        "3. You now have tried 2 different models on your data set. You need to determine which model to implement.\n",
        "\n",
        "- Overall, which model do you recommend?\n",
        "- Justify your recommendation.\n",
        "\n",
        "4. To finalize this project, complete a README in your GitHub repository including:\n",
        "\n",
        "- An overview of the project\n",
        "- 2 relevant insights from the data (supported with reporting quality visualizations)\n",
        "- Summary of the model and its evaluation metrics\n",
        "- Final recommendations "
      ],
      "metadata": {
        "id": "0DOUJS1y0Y0b"
      }
    },
    {
      "cell_type": "markdown",
      "source": [
        "Please note:\n",
        "\n",
        "- Do not include detailed technical processes or code snippets in your README. If readers want to know more technical details they should be able to easily find your notebook to learn more.\n",
        "- Make sure your GitHub repository is organized and professional. Remember, this should be used to showcase your data science skills and abilities."
      ],
      "metadata": {
        "id": "EruT3B9_0g_q"
      }
    },
    {
      "cell_type": "code",
      "execution_count": 144,
      "metadata": {
        "colab": {
          "base_uri": "https://localhost:8080/",
          "height": 357
        },
        "id": "X2e3ZiTizXy6",
        "outputId": "9825e1b8-cc5d-434a-b0ee-83bfd48a6744"
      },
      "outputs": [
        {
          "output_type": "execute_result",
          "data": {
            "text/plain": [
              "  Item_Identifier  Item_Weight Item_Fat_Content  Item_Visibility  \\\n",
              "0           FDA15         9.30          Low Fat         0.016047   \n",
              "1           DRC01         5.92          Regular         0.019278   \n",
              "2           FDN15        17.50          Low Fat         0.016760   \n",
              "3           FDX07        19.20          Regular         0.000000   \n",
              "4           NCD19         8.93          Low Fat         0.000000   \n",
              "\n",
              "               Item_Type  Item_MRP Outlet_Identifier  \\\n",
              "0                  Dairy  249.8092            OUT049   \n",
              "1            Soft Drinks   48.2692            OUT018   \n",
              "2                   Meat  141.6180            OUT049   \n",
              "3  Fruits and Vegetables  182.0950            OUT010   \n",
              "4              Household   53.8614            OUT013   \n",
              "\n",
              "   Outlet_Establishment_Year Outlet_Size Outlet_Location_Type  \\\n",
              "0                       1999      Medium               Tier 1   \n",
              "1                       2009      Medium               Tier 3   \n",
              "2                       1999      Medium               Tier 1   \n",
              "3                       1998         NaN               Tier 3   \n",
              "4                       1987        High               Tier 3   \n",
              "\n",
              "         Outlet_Type  Item_Outlet_Sales  \n",
              "0  Supermarket Type1          3735.1380  \n",
              "1  Supermarket Type2           443.4228  \n",
              "2  Supermarket Type1          2097.2700  \n",
              "3      Grocery Store           732.3800  \n",
              "4  Supermarket Type1           994.7052  "
            ],
            "text/html": [
              "\n",
              "  <div id=\"df-63c1e3bf-658f-482c-9dbf-09ee68bd5058\">\n",
              "    <div class=\"colab-df-container\">\n",
              "      <div>\n",
              "<style scoped>\n",
              "    .dataframe tbody tr th:only-of-type {\n",
              "        vertical-align: middle;\n",
              "    }\n",
              "\n",
              "    .dataframe tbody tr th {\n",
              "        vertical-align: top;\n",
              "    }\n",
              "\n",
              "    .dataframe thead th {\n",
              "        text-align: right;\n",
              "    }\n",
              "</style>\n",
              "<table border=\"1\" class=\"dataframe\">\n",
              "  <thead>\n",
              "    <tr style=\"text-align: right;\">\n",
              "      <th></th>\n",
              "      <th>Item_Identifier</th>\n",
              "      <th>Item_Weight</th>\n",
              "      <th>Item_Fat_Content</th>\n",
              "      <th>Item_Visibility</th>\n",
              "      <th>Item_Type</th>\n",
              "      <th>Item_MRP</th>\n",
              "      <th>Outlet_Identifier</th>\n",
              "      <th>Outlet_Establishment_Year</th>\n",
              "      <th>Outlet_Size</th>\n",
              "      <th>Outlet_Location_Type</th>\n",
              "      <th>Outlet_Type</th>\n",
              "      <th>Item_Outlet_Sales</th>\n",
              "    </tr>\n",
              "  </thead>\n",
              "  <tbody>\n",
              "    <tr>\n",
              "      <th>0</th>\n",
              "      <td>FDA15</td>\n",
              "      <td>9.30</td>\n",
              "      <td>Low Fat</td>\n",
              "      <td>0.016047</td>\n",
              "      <td>Dairy</td>\n",
              "      <td>249.8092</td>\n",
              "      <td>OUT049</td>\n",
              "      <td>1999</td>\n",
              "      <td>Medium</td>\n",
              "      <td>Tier 1</td>\n",
              "      <td>Supermarket Type1</td>\n",
              "      <td>3735.1380</td>\n",
              "    </tr>\n",
              "    <tr>\n",
              "      <th>1</th>\n",
              "      <td>DRC01</td>\n",
              "      <td>5.92</td>\n",
              "      <td>Regular</td>\n",
              "      <td>0.019278</td>\n",
              "      <td>Soft Drinks</td>\n",
              "      <td>48.2692</td>\n",
              "      <td>OUT018</td>\n",
              "      <td>2009</td>\n",
              "      <td>Medium</td>\n",
              "      <td>Tier 3</td>\n",
              "      <td>Supermarket Type2</td>\n",
              "      <td>443.4228</td>\n",
              "    </tr>\n",
              "    <tr>\n",
              "      <th>2</th>\n",
              "      <td>FDN15</td>\n",
              "      <td>17.50</td>\n",
              "      <td>Low Fat</td>\n",
              "      <td>0.016760</td>\n",
              "      <td>Meat</td>\n",
              "      <td>141.6180</td>\n",
              "      <td>OUT049</td>\n",
              "      <td>1999</td>\n",
              "      <td>Medium</td>\n",
              "      <td>Tier 1</td>\n",
              "      <td>Supermarket Type1</td>\n",
              "      <td>2097.2700</td>\n",
              "    </tr>\n",
              "    <tr>\n",
              "      <th>3</th>\n",
              "      <td>FDX07</td>\n",
              "      <td>19.20</td>\n",
              "      <td>Regular</td>\n",
              "      <td>0.000000</td>\n",
              "      <td>Fruits and Vegetables</td>\n",
              "      <td>182.0950</td>\n",
              "      <td>OUT010</td>\n",
              "      <td>1998</td>\n",
              "      <td>NaN</td>\n",
              "      <td>Tier 3</td>\n",
              "      <td>Grocery Store</td>\n",
              "      <td>732.3800</td>\n",
              "    </tr>\n",
              "    <tr>\n",
              "      <th>4</th>\n",
              "      <td>NCD19</td>\n",
              "      <td>8.93</td>\n",
              "      <td>Low Fat</td>\n",
              "      <td>0.000000</td>\n",
              "      <td>Household</td>\n",
              "      <td>53.8614</td>\n",
              "      <td>OUT013</td>\n",
              "      <td>1987</td>\n",
              "      <td>High</td>\n",
              "      <td>Tier 3</td>\n",
              "      <td>Supermarket Type1</td>\n",
              "      <td>994.7052</td>\n",
              "    </tr>\n",
              "  </tbody>\n",
              "</table>\n",
              "</div>\n",
              "      <button class=\"colab-df-convert\" onclick=\"convertToInteractive('df-63c1e3bf-658f-482c-9dbf-09ee68bd5058')\"\n",
              "              title=\"Convert this dataframe to an interactive table.\"\n",
              "              style=\"display:none;\">\n",
              "        \n",
              "  <svg xmlns=\"http://www.w3.org/2000/svg\" height=\"24px\"viewBox=\"0 0 24 24\"\n",
              "       width=\"24px\">\n",
              "    <path d=\"M0 0h24v24H0V0z\" fill=\"none\"/>\n",
              "    <path d=\"M18.56 5.44l.94 2.06.94-2.06 2.06-.94-2.06-.94-.94-2.06-.94 2.06-2.06.94zm-11 1L8.5 8.5l.94-2.06 2.06-.94-2.06-.94L8.5 2.5l-.94 2.06-2.06.94zm10 10l.94 2.06.94-2.06 2.06-.94-2.06-.94-.94-2.06-.94 2.06-2.06.94z\"/><path d=\"M17.41 7.96l-1.37-1.37c-.4-.4-.92-.59-1.43-.59-.52 0-1.04.2-1.43.59L10.3 9.45l-7.72 7.72c-.78.78-.78 2.05 0 2.83L4 21.41c.39.39.9.59 1.41.59.51 0 1.02-.2 1.41-.59l7.78-7.78 2.81-2.81c.8-.78.8-2.07 0-2.86zM5.41 20L4 18.59l7.72-7.72 1.47 1.35L5.41 20z\"/>\n",
              "  </svg>\n",
              "      </button>\n",
              "      \n",
              "  <style>\n",
              "    .colab-df-container {\n",
              "      display:flex;\n",
              "      flex-wrap:wrap;\n",
              "      gap: 12px;\n",
              "    }\n",
              "\n",
              "    .colab-df-convert {\n",
              "      background-color: #E8F0FE;\n",
              "      border: none;\n",
              "      border-radius: 50%;\n",
              "      cursor: pointer;\n",
              "      display: none;\n",
              "      fill: #1967D2;\n",
              "      height: 32px;\n",
              "      padding: 0 0 0 0;\n",
              "      width: 32px;\n",
              "    }\n",
              "\n",
              "    .colab-df-convert:hover {\n",
              "      background-color: #E2EBFA;\n",
              "      box-shadow: 0px 1px 2px rgba(60, 64, 67, 0.3), 0px 1px 3px 1px rgba(60, 64, 67, 0.15);\n",
              "      fill: #174EA6;\n",
              "    }\n",
              "\n",
              "    [theme=dark] .colab-df-convert {\n",
              "      background-color: #3B4455;\n",
              "      fill: #D2E3FC;\n",
              "    }\n",
              "\n",
              "    [theme=dark] .colab-df-convert:hover {\n",
              "      background-color: #434B5C;\n",
              "      box-shadow: 0px 1px 3px 1px rgba(0, 0, 0, 0.15);\n",
              "      filter: drop-shadow(0px 1px 2px rgba(0, 0, 0, 0.3));\n",
              "      fill: #FFFFFF;\n",
              "    }\n",
              "  </style>\n",
              "\n",
              "      <script>\n",
              "        const buttonEl =\n",
              "          document.querySelector('#df-63c1e3bf-658f-482c-9dbf-09ee68bd5058 button.colab-df-convert');\n",
              "        buttonEl.style.display =\n",
              "          google.colab.kernel.accessAllowed ? 'block' : 'none';\n",
              "\n",
              "        async function convertToInteractive(key) {\n",
              "          const element = document.querySelector('#df-63c1e3bf-658f-482c-9dbf-09ee68bd5058');\n",
              "          const dataTable =\n",
              "            await google.colab.kernel.invokeFunction('convertToInteractive',\n",
              "                                                     [key], {});\n",
              "          if (!dataTable) return;\n",
              "\n",
              "          const docLinkHtml = 'Like what you see? Visit the ' +\n",
              "            '<a target=\"_blank\" href=https://colab.research.google.com/notebooks/data_table.ipynb>data table notebook</a>'\n",
              "            + ' to learn more about interactive tables.';\n",
              "          element.innerHTML = '';\n",
              "          dataTable['output_type'] = 'display_data';\n",
              "          await google.colab.output.renderOutput(dataTable, element);\n",
              "          const docLink = document.createElement('div');\n",
              "          docLink.innerHTML = docLinkHtml;\n",
              "          element.appendChild(docLink);\n",
              "        }\n",
              "      </script>\n",
              "    </div>\n",
              "  </div>\n",
              "  "
            ]
          },
          "metadata": {},
          "execution_count": 144
        }
      ],
      "source": [
        "import pandas as pd\n",
        "import numpy as np\n",
        "from sklearn.tree import DecisionTreeRegressor\n",
        "from sklearn.impute import SimpleImputer\n",
        "from sklearn.model_selection import train_test_split\n",
        "from sklearn.linear_model import LinearRegression\n",
        "from sklearn.pipeline import make_pipeline\n",
        "from sklearn.preprocessing import StandardScaler, OneHotEncoder\n",
        "from sklearn.compose import make_column_selector, make_column_transformer\n",
        "from sklearn.metrics import mean_absolute_error, mean_squared_error, r2_score\n",
        "from sklearn import set_config\n",
        "set_config(display='diagram')\n",
        "\n",
        "df = pd.read_csv('/content/sales_predictions (1).csv')\n",
        "df.head()"
      ]
    },
    {
      "cell_type": "code",
      "source": [
        "def eval_regression(true, pred):\n",
        "  \"\"\"Takes true and predicted values (arrays) and prints MAE, MSE, RMSE and R2\"\"\"\n",
        "  mae = mean_absolute_error(true, pred)\n",
        "  mse = mean_squared_error(true, pred)\n",
        "  rmse = np.sqrt(mse)\n",
        "  r2 = r2_score(true, pred)\n",
        "\n",
        "  print(f'MAE {mae},\\n MSE {mse},\\n RMSE: {rmse},\\n R^2: {r2} ')"
      ],
      "metadata": {
        "id": "GAZ23MUg0eWj"
      },
      "execution_count": 145,
      "outputs": []
    },
    {
      "cell_type": "code",
      "source": [
        "sp_df = df.copy()"
      ],
      "metadata": {
        "id": "lSyBm-NGxWPi"
      },
      "execution_count": 146,
      "outputs": []
    },
    {
      "cell_type": "code",
      "source": [
        "sp_df = sp_df.drop(['Item_Identifier','Outlet_Identifier'],axis=1)"
      ],
      "metadata": {
        "id": "X7Bc0kj8BynK"
      },
      "execution_count": 147,
      "outputs": []
    },
    {
      "cell_type": "code",
      "source": [
        "sp_df.shape"
      ],
      "metadata": {
        "colab": {
          "base_uri": "https://localhost:8080/"
        },
        "id": "YOD1Xczux1Bo",
        "outputId": "c0150ce3-efa4-49d0-f89e-1f007fff2530"
      },
      "execution_count": 148,
      "outputs": [
        {
          "output_type": "execute_result",
          "data": {
            "text/plain": [
              "(8523, 10)"
            ]
          },
          "metadata": {},
          "execution_count": 148
        }
      ]
    },
    {
      "cell_type": "code",
      "source": [
        "sp_df.info()"
      ],
      "metadata": {
        "colab": {
          "base_uri": "https://localhost:8080/"
        },
        "id": "5bpG0KBJykKO",
        "outputId": "4e695afc-e167-425d-b65e-6099d0c0922c"
      },
      "execution_count": 149,
      "outputs": [
        {
          "output_type": "stream",
          "name": "stdout",
          "text": [
            "<class 'pandas.core.frame.DataFrame'>\n",
            "RangeIndex: 8523 entries, 0 to 8522\n",
            "Data columns (total 10 columns):\n",
            " #   Column                     Non-Null Count  Dtype  \n",
            "---  ------                     --------------  -----  \n",
            " 0   Item_Weight                7060 non-null   float64\n",
            " 1   Item_Fat_Content           8523 non-null   object \n",
            " 2   Item_Visibility            8523 non-null   float64\n",
            " 3   Item_Type                  8523 non-null   object \n",
            " 4   Item_MRP                   8523 non-null   float64\n",
            " 5   Outlet_Establishment_Year  8523 non-null   int64  \n",
            " 6   Outlet_Size                6113 non-null   object \n",
            " 7   Outlet_Location_Type       8523 non-null   object \n",
            " 8   Outlet_Type                8523 non-null   object \n",
            " 9   Item_Outlet_Sales          8523 non-null   float64\n",
            "dtypes: float64(4), int64(1), object(5)\n",
            "memory usage: 666.0+ KB\n"
          ]
        }
      ]
    },
    {
      "cell_type": "code",
      "source": [
        "sp_df.nunique"
      ],
      "metadata": {
        "colab": {
          "base_uri": "https://localhost:8080/"
        },
        "id": "x1yvo83UKd61",
        "outputId": "4cd31cee-3911-43bc-b852-0ab937092da0"
      },
      "execution_count": 150,
      "outputs": [
        {
          "output_type": "execute_result",
          "data": {
            "text/plain": [
              "<bound method DataFrame.nunique of       Item_Weight Item_Fat_Content  Item_Visibility              Item_Type  \\\n",
              "0           9.300          Low Fat         0.016047                  Dairy   \n",
              "1           5.920          Regular         0.019278            Soft Drinks   \n",
              "2          17.500          Low Fat         0.016760                   Meat   \n",
              "3          19.200          Regular         0.000000  Fruits and Vegetables   \n",
              "4           8.930          Low Fat         0.000000              Household   \n",
              "...           ...              ...              ...                    ...   \n",
              "8518        6.865          Low Fat         0.056783            Snack Foods   \n",
              "8519        8.380          Regular         0.046982           Baking Goods   \n",
              "8520       10.600          Low Fat         0.035186     Health and Hygiene   \n",
              "8521        7.210          Regular         0.145221            Snack Foods   \n",
              "8522       14.800          Low Fat         0.044878            Soft Drinks   \n",
              "\n",
              "      Item_MRP  Outlet_Establishment_Year Outlet_Size Outlet_Location_Type  \\\n",
              "0     249.8092                       1999      Medium               Tier 1   \n",
              "1      48.2692                       2009      Medium               Tier 3   \n",
              "2     141.6180                       1999      Medium               Tier 1   \n",
              "3     182.0950                       1998         NaN               Tier 3   \n",
              "4      53.8614                       1987        High               Tier 3   \n",
              "...        ...                        ...         ...                  ...   \n",
              "8518  214.5218                       1987        High               Tier 3   \n",
              "8519  108.1570                       2002         NaN               Tier 2   \n",
              "8520   85.1224                       2004       Small               Tier 2   \n",
              "8521  103.1332                       2009      Medium               Tier 3   \n",
              "8522   75.4670                       1997       Small               Tier 1   \n",
              "\n",
              "            Outlet_Type  Item_Outlet_Sales  \n",
              "0     Supermarket Type1          3735.1380  \n",
              "1     Supermarket Type2           443.4228  \n",
              "2     Supermarket Type1          2097.2700  \n",
              "3         Grocery Store           732.3800  \n",
              "4     Supermarket Type1           994.7052  \n",
              "...                 ...                ...  \n",
              "8518  Supermarket Type1          2778.3834  \n",
              "8519  Supermarket Type1           549.2850  \n",
              "8520  Supermarket Type1          1193.1136  \n",
              "8521  Supermarket Type2          1845.5976  \n",
              "8522  Supermarket Type1           765.6700  \n",
              "\n",
              "[8523 rows x 10 columns]>"
            ]
          },
          "metadata": {},
          "execution_count": 150
        }
      ]
    },
    {
      "cell_type": "code",
      "source": [
        "sp_df['Item_Fat_Content'].value_counts()"
      ],
      "metadata": {
        "colab": {
          "base_uri": "https://localhost:8080/"
        },
        "id": "myWnUYOXLecl",
        "outputId": "9f32d5bc-835f-4d47-945f-dfd39a347b38"
      },
      "execution_count": 151,
      "outputs": [
        {
          "output_type": "execute_result",
          "data": {
            "text/plain": [
              "Low Fat    5089\n",
              "Regular    2889\n",
              "LF          316\n",
              "reg         117\n",
              "low fat     112\n",
              "Name: Item_Fat_Content, dtype: int64"
            ]
          },
          "metadata": {},
          "execution_count": 151
        }
      ]
    },
    {
      "cell_type": "code",
      "source": [
        "sp_df = sp_df.replace({'Item_Fat_Content':{'LF': 'Low Fat','reg': 'Regular','low fat': 'Low Fat'}})\n",
        "sp_df['Item_Fat_Content'].value_counts()"
      ],
      "metadata": {
        "colab": {
          "base_uri": "https://localhost:8080/"
        },
        "id": "ouZ3_ue7L-AR",
        "outputId": "b8ccca11-cfeb-415f-cdee-2f492c65961d"
      },
      "execution_count": 152,
      "outputs": [
        {
          "output_type": "execute_result",
          "data": {
            "text/plain": [
              "Low Fat    5517\n",
              "Regular    3006\n",
              "Name: Item_Fat_Content, dtype: int64"
            ]
          },
          "metadata": {},
          "execution_count": 152
        }
      ]
    },
    {
      "cell_type": "code",
      "source": [
        "sp_df['Outlet_Size'].value_counts()"
      ],
      "metadata": {
        "colab": {
          "base_uri": "https://localhost:8080/"
        },
        "id": "hIZ4bDirYw1x",
        "outputId": "11dcd30f-3592-4a96-a97b-dcb0334a7ba9"
      },
      "execution_count": 153,
      "outputs": [
        {
          "output_type": "execute_result",
          "data": {
            "text/plain": [
              "Medium    2793\n",
              "Small     2388\n",
              "High       932\n",
              "Name: Outlet_Size, dtype: int64"
            ]
          },
          "metadata": {},
          "execution_count": 153
        }
      ]
    },
    {
      "cell_type": "code",
      "source": [
        "sp_df['Outlet_Size'] = sp_df['Outlet_Size'].replace('High', 'Large')\n",
        "sp_df['Outlet_Size'].value_counts()"
      ],
      "metadata": {
        "colab": {
          "base_uri": "https://localhost:8080/"
        },
        "id": "m13g6xpqaBEg",
        "outputId": "767ce171-727f-4c07-9b14-ef055a67b80a"
      },
      "execution_count": 154,
      "outputs": [
        {
          "output_type": "execute_result",
          "data": {
            "text/plain": [
              "Medium    2793\n",
              "Small     2388\n",
              "Large      932\n",
              "Name: Outlet_Size, dtype: int64"
            ]
          },
          "metadata": {},
          "execution_count": 154
        }
      ]
    },
    {
      "cell_type": "code",
      "source": [
        "sp_df.isna().sum()"
      ],
      "metadata": {
        "id": "3DOXzll0x9ez",
        "outputId": "a5fb940c-c449-4723-fd03-d67ec274234a",
        "colab": {
          "base_uri": "https://localhost:8080/"
        }
      },
      "execution_count": 155,
      "outputs": [
        {
          "output_type": "execute_result",
          "data": {
            "text/plain": [
              "Item_Weight                  1463\n",
              "Item_Fat_Content                0\n",
              "Item_Visibility                 0\n",
              "Item_Type                       0\n",
              "Item_MRP                        0\n",
              "Outlet_Establishment_Year       0\n",
              "Outlet_Size                  2410\n",
              "Outlet_Location_Type            0\n",
              "Outlet_Type                     0\n",
              "Item_Outlet_Sales               0\n",
              "dtype: int64"
            ]
          },
          "metadata": {},
          "execution_count": 155
        }
      ]
    },
    {
      "cell_type": "markdown",
      "source": [
        "## 1. [X] Your first task is to build a linear regression model to predict sales.\n"
      ],
      "metadata": {
        "id": "zVBK08-osBi_"
      }
    },
    {
      "cell_type": "code",
      "source": [
        "y = sp_df['Item_Outlet_Sales']\n",
        "X = sp_df.drop(columns = 'Item_Outlet_Sales')"
      ],
      "metadata": {
        "id": "cIsAV4fy1wC4"
      },
      "execution_count": 156,
      "outputs": []
    },
    {
      "cell_type": "code",
      "source": [
        "X_train, X_test, y_train, y_test = train_test_split(X, y, random_state = 42)"
      ],
      "metadata": {
        "id": "tUH5mvSV1_rz"
      },
      "execution_count": 157,
      "outputs": []
    },
    {
      "cell_type": "code",
      "source": [
        "scaler = StandardScaler()\n",
        "mean_imputer = SimpleImputer(strategy='mean')\n",
        "missing_imputer = SimpleImputer(strategy='constant', fill_value=\"Missing\")\n",
        "ohe = OneHotEncoder(sparse=False, handle_unknown='ignore')\n",
        "\n",
        "num_pipe = make_pipeline(mean_imputer, scaler)\n",
        "cat_pipe = make_pipeline(missing_imputer, ohe)\n",
        "\n",
        "cat_selector = make_column_selector(dtype_include='object')\n",
        "num_selector = make_column_selector(dtype_include='number')\n",
        "\n",
        "cat_tuple = (cat_pipe, cat_selector)\n",
        "num_tuple = (num_pipe, num_selector)\n",
        "\n",
        "preprocessor = make_column_transformer(cat_tuple, num_tuple, remainder='passthrough')\n",
        "preprocessor"
      ],
      "metadata": {
        "colab": {
          "base_uri": "https://localhost:8080/",
          "height": 152
        },
        "id": "0AfcT4DG3QxJ",
        "outputId": "5d4ce77c-00ef-4fee-e0a3-a19750579b45"
      },
      "execution_count": 158,
      "outputs": [
        {
          "output_type": "execute_result",
          "data": {
            "text/plain": [
              "ColumnTransformer(remainder='passthrough',\n",
              "                  transformers=[('pipeline-1',\n",
              "                                 Pipeline(steps=[('simpleimputer',\n",
              "                                                  SimpleImputer(fill_value='Missing',\n",
              "                                                                strategy='constant')),\n",
              "                                                 ('onehotencoder',\n",
              "                                                  OneHotEncoder(handle_unknown='ignore',\n",
              "                                                                sparse=False))]),\n",
              "                                 <sklearn.compose._column_transformer.make_column_selector object at 0x7fae03acad90>),\n",
              "                                ('pipeline-2',\n",
              "                                 Pipeline(steps=[('simpleimputer',\n",
              "                                                  SimpleImputer()),\n",
              "                                                 ('standardscaler',\n",
              "                                                  StandardScaler())]),\n",
              "                                 <sklearn.compose._column_transformer.make_column_selector object at 0x7fae03ac9810>)])"
            ],
            "text/html": [
              "<style>#sk-623c2f94-d23d-4816-bb33-410ccf090b20 {color: black;background-color: white;}#sk-623c2f94-d23d-4816-bb33-410ccf090b20 pre{padding: 0;}#sk-623c2f94-d23d-4816-bb33-410ccf090b20 div.sk-toggleable {background-color: white;}#sk-623c2f94-d23d-4816-bb33-410ccf090b20 label.sk-toggleable__label {cursor: pointer;display: block;width: 100%;margin-bottom: 0;padding: 0.3em;box-sizing: border-box;text-align: center;}#sk-623c2f94-d23d-4816-bb33-410ccf090b20 label.sk-toggleable__label-arrow:before {content: \"▸\";float: left;margin-right: 0.25em;color: #696969;}#sk-623c2f94-d23d-4816-bb33-410ccf090b20 label.sk-toggleable__label-arrow:hover:before {color: black;}#sk-623c2f94-d23d-4816-bb33-410ccf090b20 div.sk-estimator:hover label.sk-toggleable__label-arrow:before {color: black;}#sk-623c2f94-d23d-4816-bb33-410ccf090b20 div.sk-toggleable__content {max-height: 0;max-width: 0;overflow: hidden;text-align: left;background-color: #f0f8ff;}#sk-623c2f94-d23d-4816-bb33-410ccf090b20 div.sk-toggleable__content pre {margin: 0.2em;color: black;border-radius: 0.25em;background-color: #f0f8ff;}#sk-623c2f94-d23d-4816-bb33-410ccf090b20 input.sk-toggleable__control:checked~div.sk-toggleable__content {max-height: 200px;max-width: 100%;overflow: auto;}#sk-623c2f94-d23d-4816-bb33-410ccf090b20 input.sk-toggleable__control:checked~label.sk-toggleable__label-arrow:before {content: \"▾\";}#sk-623c2f94-d23d-4816-bb33-410ccf090b20 div.sk-estimator input.sk-toggleable__control:checked~label.sk-toggleable__label {background-color: #d4ebff;}#sk-623c2f94-d23d-4816-bb33-410ccf090b20 div.sk-label input.sk-toggleable__control:checked~label.sk-toggleable__label {background-color: #d4ebff;}#sk-623c2f94-d23d-4816-bb33-410ccf090b20 input.sk-hidden--visually {border: 0;clip: rect(1px 1px 1px 1px);clip: rect(1px, 1px, 1px, 1px);height: 1px;margin: -1px;overflow: hidden;padding: 0;position: absolute;width: 1px;}#sk-623c2f94-d23d-4816-bb33-410ccf090b20 div.sk-estimator {font-family: monospace;background-color: #f0f8ff;border: 1px dotted black;border-radius: 0.25em;box-sizing: border-box;margin-bottom: 0.5em;}#sk-623c2f94-d23d-4816-bb33-410ccf090b20 div.sk-estimator:hover {background-color: #d4ebff;}#sk-623c2f94-d23d-4816-bb33-410ccf090b20 div.sk-parallel-item::after {content: \"\";width: 100%;border-bottom: 1px solid gray;flex-grow: 1;}#sk-623c2f94-d23d-4816-bb33-410ccf090b20 div.sk-label:hover label.sk-toggleable__label {background-color: #d4ebff;}#sk-623c2f94-d23d-4816-bb33-410ccf090b20 div.sk-serial::before {content: \"\";position: absolute;border-left: 1px solid gray;box-sizing: border-box;top: 2em;bottom: 0;left: 50%;}#sk-623c2f94-d23d-4816-bb33-410ccf090b20 div.sk-serial {display: flex;flex-direction: column;align-items: center;background-color: white;padding-right: 0.2em;padding-left: 0.2em;}#sk-623c2f94-d23d-4816-bb33-410ccf090b20 div.sk-item {z-index: 1;}#sk-623c2f94-d23d-4816-bb33-410ccf090b20 div.sk-parallel {display: flex;align-items: stretch;justify-content: center;background-color: white;}#sk-623c2f94-d23d-4816-bb33-410ccf090b20 div.sk-parallel::before {content: \"\";position: absolute;border-left: 1px solid gray;box-sizing: border-box;top: 2em;bottom: 0;left: 50%;}#sk-623c2f94-d23d-4816-bb33-410ccf090b20 div.sk-parallel-item {display: flex;flex-direction: column;position: relative;background-color: white;}#sk-623c2f94-d23d-4816-bb33-410ccf090b20 div.sk-parallel-item:first-child::after {align-self: flex-end;width: 50%;}#sk-623c2f94-d23d-4816-bb33-410ccf090b20 div.sk-parallel-item:last-child::after {align-self: flex-start;width: 50%;}#sk-623c2f94-d23d-4816-bb33-410ccf090b20 div.sk-parallel-item:only-child::after {width: 0;}#sk-623c2f94-d23d-4816-bb33-410ccf090b20 div.sk-dashed-wrapped {border: 1px dashed gray;margin: 0 0.4em 0.5em 0.4em;box-sizing: border-box;padding-bottom: 0.4em;background-color: white;position: relative;}#sk-623c2f94-d23d-4816-bb33-410ccf090b20 div.sk-label label {font-family: monospace;font-weight: bold;background-color: white;display: inline-block;line-height: 1.2em;}#sk-623c2f94-d23d-4816-bb33-410ccf090b20 div.sk-label-container {position: relative;z-index: 2;text-align: center;}#sk-623c2f94-d23d-4816-bb33-410ccf090b20 div.sk-container {/* jupyter's `normalize.less` sets `[hidden] { display: none; }` but bootstrap.min.css set `[hidden] { display: none !important; }` so we also need the `!important` here to be able to override the default hidden behavior on the sphinx rendered scikit-learn.org. See: https://github.com/scikit-learn/scikit-learn/issues/21755 */display: inline-block !important;position: relative;}#sk-623c2f94-d23d-4816-bb33-410ccf090b20 div.sk-text-repr-fallback {display: none;}</style><div id=\"sk-623c2f94-d23d-4816-bb33-410ccf090b20\" class=\"sk-top-container\"><div class=\"sk-text-repr-fallback\"><pre>ColumnTransformer(remainder=&#x27;passthrough&#x27;,\n",
              "                  transformers=[(&#x27;pipeline-1&#x27;,\n",
              "                                 Pipeline(steps=[(&#x27;simpleimputer&#x27;,\n",
              "                                                  SimpleImputer(fill_value=&#x27;Missing&#x27;,\n",
              "                                                                strategy=&#x27;constant&#x27;)),\n",
              "                                                 (&#x27;onehotencoder&#x27;,\n",
              "                                                  OneHotEncoder(handle_unknown=&#x27;ignore&#x27;,\n",
              "                                                                sparse=False))]),\n",
              "                                 &lt;sklearn.compose._column_transformer.make_column_selector object at 0x7fae03acad90&gt;),\n",
              "                                (&#x27;pipeline-2&#x27;,\n",
              "                                 Pipeline(steps=[(&#x27;simpleimputer&#x27;,\n",
              "                                                  SimpleImputer()),\n",
              "                                                 (&#x27;standardscaler&#x27;,\n",
              "                                                  StandardScaler())]),\n",
              "                                 &lt;sklearn.compose._column_transformer.make_column_selector object at 0x7fae03ac9810&gt;)])</pre><b>Please rerun this cell to show the HTML repr or trust the notebook.</b></div><div class=\"sk-container\" hidden><div class=\"sk-item sk-dashed-wrapped\"><div class=\"sk-label-container\"><div class=\"sk-label sk-toggleable\"><input class=\"sk-toggleable__control sk-hidden--visually\" id=\"9a634127-e66b-4405-ac7f-f756f2723d08\" type=\"checkbox\" ><label for=\"9a634127-e66b-4405-ac7f-f756f2723d08\" class=\"sk-toggleable__label sk-toggleable__label-arrow\">ColumnTransformer</label><div class=\"sk-toggleable__content\"><pre>ColumnTransformer(remainder=&#x27;passthrough&#x27;,\n",
              "                  transformers=[(&#x27;pipeline-1&#x27;,\n",
              "                                 Pipeline(steps=[(&#x27;simpleimputer&#x27;,\n",
              "                                                  SimpleImputer(fill_value=&#x27;Missing&#x27;,\n",
              "                                                                strategy=&#x27;constant&#x27;)),\n",
              "                                                 (&#x27;onehotencoder&#x27;,\n",
              "                                                  OneHotEncoder(handle_unknown=&#x27;ignore&#x27;,\n",
              "                                                                sparse=False))]),\n",
              "                                 &lt;sklearn.compose._column_transformer.make_column_selector object at 0x7fae03acad90&gt;),\n",
              "                                (&#x27;pipeline-2&#x27;,\n",
              "                                 Pipeline(steps=[(&#x27;simpleimputer&#x27;,\n",
              "                                                  SimpleImputer()),\n",
              "                                                 (&#x27;standardscaler&#x27;,\n",
              "                                                  StandardScaler())]),\n",
              "                                 &lt;sklearn.compose._column_transformer.make_column_selector object at 0x7fae03ac9810&gt;)])</pre></div></div></div><div class=\"sk-parallel\"><div class=\"sk-parallel-item\"><div class=\"sk-item\"><div class=\"sk-label-container\"><div class=\"sk-label sk-toggleable\"><input class=\"sk-toggleable__control sk-hidden--visually\" id=\"4c30d806-5df6-49b4-9512-8b03e6c1c51e\" type=\"checkbox\" ><label for=\"4c30d806-5df6-49b4-9512-8b03e6c1c51e\" class=\"sk-toggleable__label sk-toggleable__label-arrow\">pipeline-1</label><div class=\"sk-toggleable__content\"><pre>&lt;sklearn.compose._column_transformer.make_column_selector object at 0x7fae03acad90&gt;</pre></div></div></div><div class=\"sk-serial\"><div class=\"sk-item\"><div class=\"sk-serial\"><div class=\"sk-item\"><div class=\"sk-estimator sk-toggleable\"><input class=\"sk-toggleable__control sk-hidden--visually\" id=\"f4e6f685-e7af-4c61-8dc9-8d0923402b3b\" type=\"checkbox\" ><label for=\"f4e6f685-e7af-4c61-8dc9-8d0923402b3b\" class=\"sk-toggleable__label sk-toggleable__label-arrow\">SimpleImputer</label><div class=\"sk-toggleable__content\"><pre>SimpleImputer(fill_value=&#x27;Missing&#x27;, strategy=&#x27;constant&#x27;)</pre></div></div></div><div class=\"sk-item\"><div class=\"sk-estimator sk-toggleable\"><input class=\"sk-toggleable__control sk-hidden--visually\" id=\"c217abc3-4944-45f5-aace-4c5e9b9e5e21\" type=\"checkbox\" ><label for=\"c217abc3-4944-45f5-aace-4c5e9b9e5e21\" class=\"sk-toggleable__label sk-toggleable__label-arrow\">OneHotEncoder</label><div class=\"sk-toggleable__content\"><pre>OneHotEncoder(handle_unknown=&#x27;ignore&#x27;, sparse=False)</pre></div></div></div></div></div></div></div></div><div class=\"sk-parallel-item\"><div class=\"sk-item\"><div class=\"sk-label-container\"><div class=\"sk-label sk-toggleable\"><input class=\"sk-toggleable__control sk-hidden--visually\" id=\"35a96dd5-d3a6-4753-a7da-a7d9bb283354\" type=\"checkbox\" ><label for=\"35a96dd5-d3a6-4753-a7da-a7d9bb283354\" class=\"sk-toggleable__label sk-toggleable__label-arrow\">pipeline-2</label><div class=\"sk-toggleable__content\"><pre>&lt;sklearn.compose._column_transformer.make_column_selector object at 0x7fae03ac9810&gt;</pre></div></div></div><div class=\"sk-serial\"><div class=\"sk-item\"><div class=\"sk-serial\"><div class=\"sk-item\"><div class=\"sk-estimator sk-toggleable\"><input class=\"sk-toggleable__control sk-hidden--visually\" id=\"3a56f2ac-17fd-4c55-a59d-d4a64038d8f7\" type=\"checkbox\" ><label for=\"3a56f2ac-17fd-4c55-a59d-d4a64038d8f7\" class=\"sk-toggleable__label sk-toggleable__label-arrow\">SimpleImputer</label><div class=\"sk-toggleable__content\"><pre>SimpleImputer()</pre></div></div></div><div class=\"sk-item\"><div class=\"sk-estimator sk-toggleable\"><input class=\"sk-toggleable__control sk-hidden--visually\" id=\"346aec10-ee55-4548-a757-f5b8cf978489\" type=\"checkbox\" ><label for=\"346aec10-ee55-4548-a757-f5b8cf978489\" class=\"sk-toggleable__label sk-toggleable__label-arrow\">StandardScaler</label><div class=\"sk-toggleable__content\"><pre>StandardScaler()</pre></div></div></div></div></div></div></div></div><div class=\"sk-parallel-item\"><div class=\"sk-item\"><div class=\"sk-label-container\"><div class=\"sk-label sk-toggleable\"><input class=\"sk-toggleable__control sk-hidden--visually\" id=\"054bec17-05e0-410d-a1c7-81861647d76a\" type=\"checkbox\" ><label for=\"054bec17-05e0-410d-a1c7-81861647d76a\" class=\"sk-toggleable__label sk-toggleable__label-arrow\">remainder</label><div class=\"sk-toggleable__content\"><pre></pre></div></div></div><div class=\"sk-serial\"><div class=\"sk-item\"><div class=\"sk-estimator sk-toggleable\"><input class=\"sk-toggleable__control sk-hidden--visually\" id=\"da51cc50-61ec-4c00-87e2-7afc7b6d5685\" type=\"checkbox\" ><label for=\"da51cc50-61ec-4c00-87e2-7afc7b6d5685\" class=\"sk-toggleable__label sk-toggleable__label-arrow\">passthrough</label><div class=\"sk-toggleable__content\"><pre>passthrough</pre></div></div></div></div></div></div></div></div></div></div>"
            ]
          },
          "metadata": {},
          "execution_count": 158
        }
      ]
    },
    {
      "cell_type": "markdown",
      "source": [
        "- [X] Build a linear regression model.\n"
      ],
      "metadata": {
        "id": "IQOTZ6YzsWMD"
      }
    },
    {
      "cell_type": "code",
      "source": [
        "linreg = LinearRegression()\n",
        "\n",
        "linreg_pipe = make_pipeline(preprocessor, linreg)\n",
        "linreg_pipe"
      ],
      "metadata": {
        "id": "KpeRsaNHtD9p",
        "colab": {
          "base_uri": "https://localhost:8080/",
          "height": 227
        },
        "outputId": "f02b8b4e-6d0a-4eb6-c332-b3db9b7af608"
      },
      "execution_count": 159,
      "outputs": [
        {
          "output_type": "execute_result",
          "data": {
            "text/plain": [
              "Pipeline(steps=[('columntransformer',\n",
              "                 ColumnTransformer(remainder='passthrough',\n",
              "                                   transformers=[('pipeline-1',\n",
              "                                                  Pipeline(steps=[('simpleimputer',\n",
              "                                                                   SimpleImputer(fill_value='Missing',\n",
              "                                                                                 strategy='constant')),\n",
              "                                                                  ('onehotencoder',\n",
              "                                                                   OneHotEncoder(handle_unknown='ignore',\n",
              "                                                                                 sparse=False))]),\n",
              "                                                  <sklearn.compose._column_transformer.make_column_selector object at 0x7fae03acad90>),\n",
              "                                                 ('pipeline-2',\n",
              "                                                  Pipeline(steps=[('simpleimputer',\n",
              "                                                                   SimpleImputer()),\n",
              "                                                                  ('standardscaler',\n",
              "                                                                   StandardScaler())]),\n",
              "                                                  <sklearn.compose._column_transformer.make_column_selector object at 0x7fae03ac9810>)])),\n",
              "                ('linearregression', LinearRegression())])"
            ],
            "text/html": [
              "<style>#sk-2420570a-5e1c-4594-b044-1fcd5388355c {color: black;background-color: white;}#sk-2420570a-5e1c-4594-b044-1fcd5388355c pre{padding: 0;}#sk-2420570a-5e1c-4594-b044-1fcd5388355c div.sk-toggleable {background-color: white;}#sk-2420570a-5e1c-4594-b044-1fcd5388355c label.sk-toggleable__label {cursor: pointer;display: block;width: 100%;margin-bottom: 0;padding: 0.3em;box-sizing: border-box;text-align: center;}#sk-2420570a-5e1c-4594-b044-1fcd5388355c label.sk-toggleable__label-arrow:before {content: \"▸\";float: left;margin-right: 0.25em;color: #696969;}#sk-2420570a-5e1c-4594-b044-1fcd5388355c label.sk-toggleable__label-arrow:hover:before {color: black;}#sk-2420570a-5e1c-4594-b044-1fcd5388355c div.sk-estimator:hover label.sk-toggleable__label-arrow:before {color: black;}#sk-2420570a-5e1c-4594-b044-1fcd5388355c div.sk-toggleable__content {max-height: 0;max-width: 0;overflow: hidden;text-align: left;background-color: #f0f8ff;}#sk-2420570a-5e1c-4594-b044-1fcd5388355c div.sk-toggleable__content pre {margin: 0.2em;color: black;border-radius: 0.25em;background-color: #f0f8ff;}#sk-2420570a-5e1c-4594-b044-1fcd5388355c input.sk-toggleable__control:checked~div.sk-toggleable__content {max-height: 200px;max-width: 100%;overflow: auto;}#sk-2420570a-5e1c-4594-b044-1fcd5388355c input.sk-toggleable__control:checked~label.sk-toggleable__label-arrow:before {content: \"▾\";}#sk-2420570a-5e1c-4594-b044-1fcd5388355c div.sk-estimator input.sk-toggleable__control:checked~label.sk-toggleable__label {background-color: #d4ebff;}#sk-2420570a-5e1c-4594-b044-1fcd5388355c div.sk-label input.sk-toggleable__control:checked~label.sk-toggleable__label {background-color: #d4ebff;}#sk-2420570a-5e1c-4594-b044-1fcd5388355c input.sk-hidden--visually {border: 0;clip: rect(1px 1px 1px 1px);clip: rect(1px, 1px, 1px, 1px);height: 1px;margin: -1px;overflow: hidden;padding: 0;position: absolute;width: 1px;}#sk-2420570a-5e1c-4594-b044-1fcd5388355c div.sk-estimator {font-family: monospace;background-color: #f0f8ff;border: 1px dotted black;border-radius: 0.25em;box-sizing: border-box;margin-bottom: 0.5em;}#sk-2420570a-5e1c-4594-b044-1fcd5388355c div.sk-estimator:hover {background-color: #d4ebff;}#sk-2420570a-5e1c-4594-b044-1fcd5388355c div.sk-parallel-item::after {content: \"\";width: 100%;border-bottom: 1px solid gray;flex-grow: 1;}#sk-2420570a-5e1c-4594-b044-1fcd5388355c div.sk-label:hover label.sk-toggleable__label {background-color: #d4ebff;}#sk-2420570a-5e1c-4594-b044-1fcd5388355c div.sk-serial::before {content: \"\";position: absolute;border-left: 1px solid gray;box-sizing: border-box;top: 2em;bottom: 0;left: 50%;}#sk-2420570a-5e1c-4594-b044-1fcd5388355c div.sk-serial {display: flex;flex-direction: column;align-items: center;background-color: white;padding-right: 0.2em;padding-left: 0.2em;}#sk-2420570a-5e1c-4594-b044-1fcd5388355c div.sk-item {z-index: 1;}#sk-2420570a-5e1c-4594-b044-1fcd5388355c div.sk-parallel {display: flex;align-items: stretch;justify-content: center;background-color: white;}#sk-2420570a-5e1c-4594-b044-1fcd5388355c div.sk-parallel::before {content: \"\";position: absolute;border-left: 1px solid gray;box-sizing: border-box;top: 2em;bottom: 0;left: 50%;}#sk-2420570a-5e1c-4594-b044-1fcd5388355c div.sk-parallel-item {display: flex;flex-direction: column;position: relative;background-color: white;}#sk-2420570a-5e1c-4594-b044-1fcd5388355c div.sk-parallel-item:first-child::after {align-self: flex-end;width: 50%;}#sk-2420570a-5e1c-4594-b044-1fcd5388355c div.sk-parallel-item:last-child::after {align-self: flex-start;width: 50%;}#sk-2420570a-5e1c-4594-b044-1fcd5388355c div.sk-parallel-item:only-child::after {width: 0;}#sk-2420570a-5e1c-4594-b044-1fcd5388355c div.sk-dashed-wrapped {border: 1px dashed gray;margin: 0 0.4em 0.5em 0.4em;box-sizing: border-box;padding-bottom: 0.4em;background-color: white;position: relative;}#sk-2420570a-5e1c-4594-b044-1fcd5388355c div.sk-label label {font-family: monospace;font-weight: bold;background-color: white;display: inline-block;line-height: 1.2em;}#sk-2420570a-5e1c-4594-b044-1fcd5388355c div.sk-label-container {position: relative;z-index: 2;text-align: center;}#sk-2420570a-5e1c-4594-b044-1fcd5388355c div.sk-container {/* jupyter's `normalize.less` sets `[hidden] { display: none; }` but bootstrap.min.css set `[hidden] { display: none !important; }` so we also need the `!important` here to be able to override the default hidden behavior on the sphinx rendered scikit-learn.org. See: https://github.com/scikit-learn/scikit-learn/issues/21755 */display: inline-block !important;position: relative;}#sk-2420570a-5e1c-4594-b044-1fcd5388355c div.sk-text-repr-fallback {display: none;}</style><div id=\"sk-2420570a-5e1c-4594-b044-1fcd5388355c\" class=\"sk-top-container\"><div class=\"sk-text-repr-fallback\"><pre>Pipeline(steps=[(&#x27;columntransformer&#x27;,\n",
              "                 ColumnTransformer(remainder=&#x27;passthrough&#x27;,\n",
              "                                   transformers=[(&#x27;pipeline-1&#x27;,\n",
              "                                                  Pipeline(steps=[(&#x27;simpleimputer&#x27;,\n",
              "                                                                   SimpleImputer(fill_value=&#x27;Missing&#x27;,\n",
              "                                                                                 strategy=&#x27;constant&#x27;)),\n",
              "                                                                  (&#x27;onehotencoder&#x27;,\n",
              "                                                                   OneHotEncoder(handle_unknown=&#x27;ignore&#x27;,\n",
              "                                                                                 sparse=False))]),\n",
              "                                                  &lt;sklearn.compose._column_transformer.make_column_selector object at 0x7fae03acad90&gt;),\n",
              "                                                 (&#x27;pipeline-2&#x27;,\n",
              "                                                  Pipeline(steps=[(&#x27;simpleimputer&#x27;,\n",
              "                                                                   SimpleImputer()),\n",
              "                                                                  (&#x27;standardscaler&#x27;,\n",
              "                                                                   StandardScaler())]),\n",
              "                                                  &lt;sklearn.compose._column_transformer.make_column_selector object at 0x7fae03ac9810&gt;)])),\n",
              "                (&#x27;linearregression&#x27;, LinearRegression())])</pre><b>Please rerun this cell to show the HTML repr or trust the notebook.</b></div><div class=\"sk-container\" hidden><div class=\"sk-item sk-dashed-wrapped\"><div class=\"sk-label-container\"><div class=\"sk-label sk-toggleable\"><input class=\"sk-toggleable__control sk-hidden--visually\" id=\"03dc314f-e31f-4f1c-bf62-30280cc9d6d2\" type=\"checkbox\" ><label for=\"03dc314f-e31f-4f1c-bf62-30280cc9d6d2\" class=\"sk-toggleable__label sk-toggleable__label-arrow\">Pipeline</label><div class=\"sk-toggleable__content\"><pre>Pipeline(steps=[(&#x27;columntransformer&#x27;,\n",
              "                 ColumnTransformer(remainder=&#x27;passthrough&#x27;,\n",
              "                                   transformers=[(&#x27;pipeline-1&#x27;,\n",
              "                                                  Pipeline(steps=[(&#x27;simpleimputer&#x27;,\n",
              "                                                                   SimpleImputer(fill_value=&#x27;Missing&#x27;,\n",
              "                                                                                 strategy=&#x27;constant&#x27;)),\n",
              "                                                                  (&#x27;onehotencoder&#x27;,\n",
              "                                                                   OneHotEncoder(handle_unknown=&#x27;ignore&#x27;,\n",
              "                                                                                 sparse=False))]),\n",
              "                                                  &lt;sklearn.compose._column_transformer.make_column_selector object at 0x7fae03acad90&gt;),\n",
              "                                                 (&#x27;pipeline-2&#x27;,\n",
              "                                                  Pipeline(steps=[(&#x27;simpleimputer&#x27;,\n",
              "                                                                   SimpleImputer()),\n",
              "                                                                  (&#x27;standardscaler&#x27;,\n",
              "                                                                   StandardScaler())]),\n",
              "                                                  &lt;sklearn.compose._column_transformer.make_column_selector object at 0x7fae03ac9810&gt;)])),\n",
              "                (&#x27;linearregression&#x27;, LinearRegression())])</pre></div></div></div><div class=\"sk-serial\"><div class=\"sk-item sk-dashed-wrapped\"><div class=\"sk-label-container\"><div class=\"sk-label sk-toggleable\"><input class=\"sk-toggleable__control sk-hidden--visually\" id=\"ab8fa227-ef70-44e2-a1d3-790f1c60eec9\" type=\"checkbox\" ><label for=\"ab8fa227-ef70-44e2-a1d3-790f1c60eec9\" class=\"sk-toggleable__label sk-toggleable__label-arrow\">columntransformer: ColumnTransformer</label><div class=\"sk-toggleable__content\"><pre>ColumnTransformer(remainder=&#x27;passthrough&#x27;,\n",
              "                  transformers=[(&#x27;pipeline-1&#x27;,\n",
              "                                 Pipeline(steps=[(&#x27;simpleimputer&#x27;,\n",
              "                                                  SimpleImputer(fill_value=&#x27;Missing&#x27;,\n",
              "                                                                strategy=&#x27;constant&#x27;)),\n",
              "                                                 (&#x27;onehotencoder&#x27;,\n",
              "                                                  OneHotEncoder(handle_unknown=&#x27;ignore&#x27;,\n",
              "                                                                sparse=False))]),\n",
              "                                 &lt;sklearn.compose._column_transformer.make_column_selector object at 0x7fae03acad90&gt;),\n",
              "                                (&#x27;pipeline-2&#x27;,\n",
              "                                 Pipeline(steps=[(&#x27;simpleimputer&#x27;,\n",
              "                                                  SimpleImputer()),\n",
              "                                                 (&#x27;standardscaler&#x27;,\n",
              "                                                  StandardScaler())]),\n",
              "                                 &lt;sklearn.compose._column_transformer.make_column_selector object at 0x7fae03ac9810&gt;)])</pre></div></div></div><div class=\"sk-parallel\"><div class=\"sk-parallel-item\"><div class=\"sk-item\"><div class=\"sk-label-container\"><div class=\"sk-label sk-toggleable\"><input class=\"sk-toggleable__control sk-hidden--visually\" id=\"52f86bdb-d864-408a-aa0f-3d1236e7e21f\" type=\"checkbox\" ><label for=\"52f86bdb-d864-408a-aa0f-3d1236e7e21f\" class=\"sk-toggleable__label sk-toggleable__label-arrow\">pipeline-1</label><div class=\"sk-toggleable__content\"><pre>&lt;sklearn.compose._column_transformer.make_column_selector object at 0x7fae03acad90&gt;</pre></div></div></div><div class=\"sk-serial\"><div class=\"sk-item\"><div class=\"sk-serial\"><div class=\"sk-item\"><div class=\"sk-estimator sk-toggleable\"><input class=\"sk-toggleable__control sk-hidden--visually\" id=\"78d534bc-2ba0-4aaf-a8cc-f693f1d6427e\" type=\"checkbox\" ><label for=\"78d534bc-2ba0-4aaf-a8cc-f693f1d6427e\" class=\"sk-toggleable__label sk-toggleable__label-arrow\">SimpleImputer</label><div class=\"sk-toggleable__content\"><pre>SimpleImputer(fill_value=&#x27;Missing&#x27;, strategy=&#x27;constant&#x27;)</pre></div></div></div><div class=\"sk-item\"><div class=\"sk-estimator sk-toggleable\"><input class=\"sk-toggleable__control sk-hidden--visually\" id=\"ac7a6f1c-d297-4170-af4e-352e1309fae8\" type=\"checkbox\" ><label for=\"ac7a6f1c-d297-4170-af4e-352e1309fae8\" class=\"sk-toggleable__label sk-toggleable__label-arrow\">OneHotEncoder</label><div class=\"sk-toggleable__content\"><pre>OneHotEncoder(handle_unknown=&#x27;ignore&#x27;, sparse=False)</pre></div></div></div></div></div></div></div></div><div class=\"sk-parallel-item\"><div class=\"sk-item\"><div class=\"sk-label-container\"><div class=\"sk-label sk-toggleable\"><input class=\"sk-toggleable__control sk-hidden--visually\" id=\"d98c0f5a-7b19-44f8-98be-695949d27fef\" type=\"checkbox\" ><label for=\"d98c0f5a-7b19-44f8-98be-695949d27fef\" class=\"sk-toggleable__label sk-toggleable__label-arrow\">pipeline-2</label><div class=\"sk-toggleable__content\"><pre>&lt;sklearn.compose._column_transformer.make_column_selector object at 0x7fae03ac9810&gt;</pre></div></div></div><div class=\"sk-serial\"><div class=\"sk-item\"><div class=\"sk-serial\"><div class=\"sk-item\"><div class=\"sk-estimator sk-toggleable\"><input class=\"sk-toggleable__control sk-hidden--visually\" id=\"177748ca-56a6-4646-acb8-7cd6cf4023ad\" type=\"checkbox\" ><label for=\"177748ca-56a6-4646-acb8-7cd6cf4023ad\" class=\"sk-toggleable__label sk-toggleable__label-arrow\">SimpleImputer</label><div class=\"sk-toggleable__content\"><pre>SimpleImputer()</pre></div></div></div><div class=\"sk-item\"><div class=\"sk-estimator sk-toggleable\"><input class=\"sk-toggleable__control sk-hidden--visually\" id=\"c1d9d548-a739-47c1-9885-d5b4e76d37a8\" type=\"checkbox\" ><label for=\"c1d9d548-a739-47c1-9885-d5b4e76d37a8\" class=\"sk-toggleable__label sk-toggleable__label-arrow\">StandardScaler</label><div class=\"sk-toggleable__content\"><pre>StandardScaler()</pre></div></div></div></div></div></div></div></div><div class=\"sk-parallel-item\"><div class=\"sk-item\"><div class=\"sk-label-container\"><div class=\"sk-label sk-toggleable\"><input class=\"sk-toggleable__control sk-hidden--visually\" id=\"823e4b60-8e7b-42dc-9237-93d653ccabeb\" type=\"checkbox\" ><label for=\"823e4b60-8e7b-42dc-9237-93d653ccabeb\" class=\"sk-toggleable__label sk-toggleable__label-arrow\">remainder</label><div class=\"sk-toggleable__content\"><pre></pre></div></div></div><div class=\"sk-serial\"><div class=\"sk-item\"><div class=\"sk-estimator sk-toggleable\"><input class=\"sk-toggleable__control sk-hidden--visually\" id=\"475d329e-7871-4ee9-a2fe-f7017298bc40\" type=\"checkbox\" ><label for=\"475d329e-7871-4ee9-a2fe-f7017298bc40\" class=\"sk-toggleable__label sk-toggleable__label-arrow\">passthrough</label><div class=\"sk-toggleable__content\"><pre>passthrough</pre></div></div></div></div></div></div></div></div><div class=\"sk-item\"><div class=\"sk-estimator sk-toggleable\"><input class=\"sk-toggleable__control sk-hidden--visually\" id=\"2d8a7f82-0d3d-4ae7-a4a0-1ca97cfa2329\" type=\"checkbox\" ><label for=\"2d8a7f82-0d3d-4ae7-a4a0-1ca97cfa2329\" class=\"sk-toggleable__label sk-toggleable__label-arrow\">LinearRegression</label><div class=\"sk-toggleable__content\"><pre>LinearRegression()</pre></div></div></div></div></div></div></div>"
            ]
          },
          "metadata": {},
          "execution_count": 159
        }
      ]
    },
    {
      "cell_type": "code",
      "source": [
        "linreg_pipe.fit(X_train, y_train)\n",
        "\n",
        "training_predictions = linreg_pipe.predict(X_train)\n",
        "test_predictions = linreg_pipe.predict(X_test)\n",
        "training_predictions[:10]"
      ],
      "metadata": {
        "colab": {
          "base_uri": "https://localhost:8080/"
        },
        "id": "h7ORq13AAH85",
        "outputId": "ac5fe5e7-e4f9-443c-8ba0-5e5914238cc5"
      },
      "execution_count": 160,
      "outputs": [
        {
          "output_type": "execute_result",
          "data": {
            "text/plain": [
              "array([3842., 2586., 2544., 1510., 1900., -136., 1518., 5570., 4160.,\n",
              "       2074.])"
            ]
          },
          "metadata": {},
          "execution_count": 160
        }
      ]
    },
    {
      "cell_type": "code",
      "source": [
        "print('Train')\n",
        "eval_regression(y_train, training_predictions)\n",
        "print('\\nTest')\n",
        "eval_regression(y_test, test_predictions)"
      ],
      "metadata": {
        "colab": {
          "base_uri": "https://localhost:8080/"
        },
        "id": "k4qhXJXNgONE",
        "outputId": "c377cd4a-596d-4ddd-af84-bbc11684c4dc"
      },
      "execution_count": 161,
      "outputs": [
        {
          "output_type": "stream",
          "name": "stdout",
          "text": [
            "Train\n",
            "MAE 847.8499817897373,\n",
            " MSE 1300470.9310713324,\n",
            " RMSE: 1140.3819233359202,\n",
            " R^2: 0.5605709086700534 \n",
            "\n",
            "Test\n",
            "MAE 804.9409381511028,\n",
            " MSE 1194416.6540692842,\n",
            " RMSE: 1092.8937066656044,\n",
            " R^2: 0.5670799251055714 \n"
          ]
        }
      ]
    },
    {
      "cell_type": "markdown",
      "source": [
        "- [X] Evaluate the performance of your model based on r^2.\n"
      ],
      "metadata": {
        "id": "hnD3m7jWg-eq"
      }
    },
    {
      "cell_type": "markdown",
      "source": [
        "- The R^2 score of 56% shows us that our model could use alot of tuning as only a little over half of the observed variation can be explained.\n"
      ],
      "metadata": {
        "id": "0NO604fLky5Y"
      }
    },
    {
      "cell_type": "markdown",
      "source": [
        "- [X] Evaluate the performance of your model based on rmse."
      ],
      "metadata": {
        "id": "SVeFbBCjmqcY"
      }
    },
    {
      "cell_type": "markdown",
      "source": [
        "- The RMSE is high at 1092, which means that our model has lots of error."
      ],
      "metadata": {
        "id": "r3FZZS0OmzWI"
      }
    },
    {
      "cell_type": "markdown",
      "source": [
        "## 2. [X] Your second task is to build a regression tree model to predict sales.\n"
      ],
      "metadata": {
        "id": "LfNsbpYEoKuS"
      }
    },
    {
      "cell_type": "code",
      "source": [
        "dec_tree = DecisionTreeRegressor(random_state = 42)\n",
        "dec_tree_pipe = make_pipeline(preprocessor, dec_tree)\n"
      ],
      "metadata": {
        "id": "-HHWKWvSig9g"
      },
      "execution_count": 164,
      "outputs": []
    },
    {
      "cell_type": "code",
      "source": [
        "dec_tree_pipe.fit(X_train, y_train)"
      ],
      "metadata": {
        "colab": {
          "base_uri": "https://localhost:8080/",
          "height": 227
        },
        "id": "aFfZ4XDlqD25",
        "outputId": "5ad24314-52bd-4db4-fb1d-b05363b81ae1"
      },
      "execution_count": 166,
      "outputs": [
        {
          "output_type": "execute_result",
          "data": {
            "text/plain": [
              "Pipeline(steps=[('columntransformer',\n",
              "                 ColumnTransformer(remainder='passthrough',\n",
              "                                   transformers=[('pipeline-1',\n",
              "                                                  Pipeline(steps=[('simpleimputer',\n",
              "                                                                   SimpleImputer(fill_value='Missing',\n",
              "                                                                                 strategy='constant')),\n",
              "                                                                  ('onehotencoder',\n",
              "                                                                   OneHotEncoder(handle_unknown='ignore',\n",
              "                                                                                 sparse=False))]),\n",
              "                                                  <sklearn.compose._column_transformer.make_column_selector object at 0x7fae03acad90>),\n",
              "                                                 ('pipeline-2',\n",
              "                                                  Pipeline(steps=[('simpleimputer',\n",
              "                                                                   SimpleImputer()),\n",
              "                                                                  ('standardscaler',\n",
              "                                                                   StandardScaler())]),\n",
              "                                                  <sklearn.compose._column_transformer.make_column_selector object at 0x7fae03ac9810>)])),\n",
              "                ('decisiontreeregressor',\n",
              "                 DecisionTreeRegressor(random_state=42))])"
            ],
            "text/html": [
              "<style>#sk-818f2959-9d1c-431a-ba7e-763b8a2641da {color: black;background-color: white;}#sk-818f2959-9d1c-431a-ba7e-763b8a2641da pre{padding: 0;}#sk-818f2959-9d1c-431a-ba7e-763b8a2641da div.sk-toggleable {background-color: white;}#sk-818f2959-9d1c-431a-ba7e-763b8a2641da label.sk-toggleable__label {cursor: pointer;display: block;width: 100%;margin-bottom: 0;padding: 0.3em;box-sizing: border-box;text-align: center;}#sk-818f2959-9d1c-431a-ba7e-763b8a2641da label.sk-toggleable__label-arrow:before {content: \"▸\";float: left;margin-right: 0.25em;color: #696969;}#sk-818f2959-9d1c-431a-ba7e-763b8a2641da label.sk-toggleable__label-arrow:hover:before {color: black;}#sk-818f2959-9d1c-431a-ba7e-763b8a2641da div.sk-estimator:hover label.sk-toggleable__label-arrow:before {color: black;}#sk-818f2959-9d1c-431a-ba7e-763b8a2641da div.sk-toggleable__content {max-height: 0;max-width: 0;overflow: hidden;text-align: left;background-color: #f0f8ff;}#sk-818f2959-9d1c-431a-ba7e-763b8a2641da div.sk-toggleable__content pre {margin: 0.2em;color: black;border-radius: 0.25em;background-color: #f0f8ff;}#sk-818f2959-9d1c-431a-ba7e-763b8a2641da input.sk-toggleable__control:checked~div.sk-toggleable__content {max-height: 200px;max-width: 100%;overflow: auto;}#sk-818f2959-9d1c-431a-ba7e-763b8a2641da input.sk-toggleable__control:checked~label.sk-toggleable__label-arrow:before {content: \"▾\";}#sk-818f2959-9d1c-431a-ba7e-763b8a2641da div.sk-estimator input.sk-toggleable__control:checked~label.sk-toggleable__label {background-color: #d4ebff;}#sk-818f2959-9d1c-431a-ba7e-763b8a2641da div.sk-label input.sk-toggleable__control:checked~label.sk-toggleable__label {background-color: #d4ebff;}#sk-818f2959-9d1c-431a-ba7e-763b8a2641da input.sk-hidden--visually {border: 0;clip: rect(1px 1px 1px 1px);clip: rect(1px, 1px, 1px, 1px);height: 1px;margin: -1px;overflow: hidden;padding: 0;position: absolute;width: 1px;}#sk-818f2959-9d1c-431a-ba7e-763b8a2641da div.sk-estimator {font-family: monospace;background-color: #f0f8ff;border: 1px dotted black;border-radius: 0.25em;box-sizing: border-box;margin-bottom: 0.5em;}#sk-818f2959-9d1c-431a-ba7e-763b8a2641da div.sk-estimator:hover {background-color: #d4ebff;}#sk-818f2959-9d1c-431a-ba7e-763b8a2641da div.sk-parallel-item::after {content: \"\";width: 100%;border-bottom: 1px solid gray;flex-grow: 1;}#sk-818f2959-9d1c-431a-ba7e-763b8a2641da div.sk-label:hover label.sk-toggleable__label {background-color: #d4ebff;}#sk-818f2959-9d1c-431a-ba7e-763b8a2641da div.sk-serial::before {content: \"\";position: absolute;border-left: 1px solid gray;box-sizing: border-box;top: 2em;bottom: 0;left: 50%;}#sk-818f2959-9d1c-431a-ba7e-763b8a2641da div.sk-serial {display: flex;flex-direction: column;align-items: center;background-color: white;padding-right: 0.2em;padding-left: 0.2em;}#sk-818f2959-9d1c-431a-ba7e-763b8a2641da div.sk-item {z-index: 1;}#sk-818f2959-9d1c-431a-ba7e-763b8a2641da div.sk-parallel {display: flex;align-items: stretch;justify-content: center;background-color: white;}#sk-818f2959-9d1c-431a-ba7e-763b8a2641da div.sk-parallel::before {content: \"\";position: absolute;border-left: 1px solid gray;box-sizing: border-box;top: 2em;bottom: 0;left: 50%;}#sk-818f2959-9d1c-431a-ba7e-763b8a2641da div.sk-parallel-item {display: flex;flex-direction: column;position: relative;background-color: white;}#sk-818f2959-9d1c-431a-ba7e-763b8a2641da div.sk-parallel-item:first-child::after {align-self: flex-end;width: 50%;}#sk-818f2959-9d1c-431a-ba7e-763b8a2641da div.sk-parallel-item:last-child::after {align-self: flex-start;width: 50%;}#sk-818f2959-9d1c-431a-ba7e-763b8a2641da div.sk-parallel-item:only-child::after {width: 0;}#sk-818f2959-9d1c-431a-ba7e-763b8a2641da div.sk-dashed-wrapped {border: 1px dashed gray;margin: 0 0.4em 0.5em 0.4em;box-sizing: border-box;padding-bottom: 0.4em;background-color: white;position: relative;}#sk-818f2959-9d1c-431a-ba7e-763b8a2641da div.sk-label label {font-family: monospace;font-weight: bold;background-color: white;display: inline-block;line-height: 1.2em;}#sk-818f2959-9d1c-431a-ba7e-763b8a2641da div.sk-label-container {position: relative;z-index: 2;text-align: center;}#sk-818f2959-9d1c-431a-ba7e-763b8a2641da div.sk-container {/* jupyter's `normalize.less` sets `[hidden] { display: none; }` but bootstrap.min.css set `[hidden] { display: none !important; }` so we also need the `!important` here to be able to override the default hidden behavior on the sphinx rendered scikit-learn.org. See: https://github.com/scikit-learn/scikit-learn/issues/21755 */display: inline-block !important;position: relative;}#sk-818f2959-9d1c-431a-ba7e-763b8a2641da div.sk-text-repr-fallback {display: none;}</style><div id=\"sk-818f2959-9d1c-431a-ba7e-763b8a2641da\" class=\"sk-top-container\"><div class=\"sk-text-repr-fallback\"><pre>Pipeline(steps=[(&#x27;columntransformer&#x27;,\n",
              "                 ColumnTransformer(remainder=&#x27;passthrough&#x27;,\n",
              "                                   transformers=[(&#x27;pipeline-1&#x27;,\n",
              "                                                  Pipeline(steps=[(&#x27;simpleimputer&#x27;,\n",
              "                                                                   SimpleImputer(fill_value=&#x27;Missing&#x27;,\n",
              "                                                                                 strategy=&#x27;constant&#x27;)),\n",
              "                                                                  (&#x27;onehotencoder&#x27;,\n",
              "                                                                   OneHotEncoder(handle_unknown=&#x27;ignore&#x27;,\n",
              "                                                                                 sparse=False))]),\n",
              "                                                  &lt;sklearn.compose._column_transformer.make_column_selector object at 0x7fae03acad90&gt;),\n",
              "                                                 (&#x27;pipeline-2&#x27;,\n",
              "                                                  Pipeline(steps=[(&#x27;simpleimputer&#x27;,\n",
              "                                                                   SimpleImputer()),\n",
              "                                                                  (&#x27;standardscaler&#x27;,\n",
              "                                                                   StandardScaler())]),\n",
              "                                                  &lt;sklearn.compose._column_transformer.make_column_selector object at 0x7fae03ac9810&gt;)])),\n",
              "                (&#x27;decisiontreeregressor&#x27;,\n",
              "                 DecisionTreeRegressor(random_state=42))])</pre><b>Please rerun this cell to show the HTML repr or trust the notebook.</b></div><div class=\"sk-container\" hidden><div class=\"sk-item sk-dashed-wrapped\"><div class=\"sk-label-container\"><div class=\"sk-label sk-toggleable\"><input class=\"sk-toggleable__control sk-hidden--visually\" id=\"584d9125-2595-438d-ad28-7be5cec23185\" type=\"checkbox\" ><label for=\"584d9125-2595-438d-ad28-7be5cec23185\" class=\"sk-toggleable__label sk-toggleable__label-arrow\">Pipeline</label><div class=\"sk-toggleable__content\"><pre>Pipeline(steps=[(&#x27;columntransformer&#x27;,\n",
              "                 ColumnTransformer(remainder=&#x27;passthrough&#x27;,\n",
              "                                   transformers=[(&#x27;pipeline-1&#x27;,\n",
              "                                                  Pipeline(steps=[(&#x27;simpleimputer&#x27;,\n",
              "                                                                   SimpleImputer(fill_value=&#x27;Missing&#x27;,\n",
              "                                                                                 strategy=&#x27;constant&#x27;)),\n",
              "                                                                  (&#x27;onehotencoder&#x27;,\n",
              "                                                                   OneHotEncoder(handle_unknown=&#x27;ignore&#x27;,\n",
              "                                                                                 sparse=False))]),\n",
              "                                                  &lt;sklearn.compose._column_transformer.make_column_selector object at 0x7fae03acad90&gt;),\n",
              "                                                 (&#x27;pipeline-2&#x27;,\n",
              "                                                  Pipeline(steps=[(&#x27;simpleimputer&#x27;,\n",
              "                                                                   SimpleImputer()),\n",
              "                                                                  (&#x27;standardscaler&#x27;,\n",
              "                                                                   StandardScaler())]),\n",
              "                                                  &lt;sklearn.compose._column_transformer.make_column_selector object at 0x7fae03ac9810&gt;)])),\n",
              "                (&#x27;decisiontreeregressor&#x27;,\n",
              "                 DecisionTreeRegressor(random_state=42))])</pre></div></div></div><div class=\"sk-serial\"><div class=\"sk-item sk-dashed-wrapped\"><div class=\"sk-label-container\"><div class=\"sk-label sk-toggleable\"><input class=\"sk-toggleable__control sk-hidden--visually\" id=\"50e8efdd-507a-4d29-9f43-1cbdee4f9c38\" type=\"checkbox\" ><label for=\"50e8efdd-507a-4d29-9f43-1cbdee4f9c38\" class=\"sk-toggleable__label sk-toggleable__label-arrow\">columntransformer: ColumnTransformer</label><div class=\"sk-toggleable__content\"><pre>ColumnTransformer(remainder=&#x27;passthrough&#x27;,\n",
              "                  transformers=[(&#x27;pipeline-1&#x27;,\n",
              "                                 Pipeline(steps=[(&#x27;simpleimputer&#x27;,\n",
              "                                                  SimpleImputer(fill_value=&#x27;Missing&#x27;,\n",
              "                                                                strategy=&#x27;constant&#x27;)),\n",
              "                                                 (&#x27;onehotencoder&#x27;,\n",
              "                                                  OneHotEncoder(handle_unknown=&#x27;ignore&#x27;,\n",
              "                                                                sparse=False))]),\n",
              "                                 &lt;sklearn.compose._column_transformer.make_column_selector object at 0x7fae03acad90&gt;),\n",
              "                                (&#x27;pipeline-2&#x27;,\n",
              "                                 Pipeline(steps=[(&#x27;simpleimputer&#x27;,\n",
              "                                                  SimpleImputer()),\n",
              "                                                 (&#x27;standardscaler&#x27;,\n",
              "                                                  StandardScaler())]),\n",
              "                                 &lt;sklearn.compose._column_transformer.make_column_selector object at 0x7fae03ac9810&gt;)])</pre></div></div></div><div class=\"sk-parallel\"><div class=\"sk-parallel-item\"><div class=\"sk-item\"><div class=\"sk-label-container\"><div class=\"sk-label sk-toggleable\"><input class=\"sk-toggleable__control sk-hidden--visually\" id=\"03fee741-d687-4da8-a75c-d5c647040b7a\" type=\"checkbox\" ><label for=\"03fee741-d687-4da8-a75c-d5c647040b7a\" class=\"sk-toggleable__label sk-toggleable__label-arrow\">pipeline-1</label><div class=\"sk-toggleable__content\"><pre>&lt;sklearn.compose._column_transformer.make_column_selector object at 0x7fae03acad90&gt;</pre></div></div></div><div class=\"sk-serial\"><div class=\"sk-item\"><div class=\"sk-serial\"><div class=\"sk-item\"><div class=\"sk-estimator sk-toggleable\"><input class=\"sk-toggleable__control sk-hidden--visually\" id=\"31f61512-1a62-463c-8a3d-3404eb787367\" type=\"checkbox\" ><label for=\"31f61512-1a62-463c-8a3d-3404eb787367\" class=\"sk-toggleable__label sk-toggleable__label-arrow\">SimpleImputer</label><div class=\"sk-toggleable__content\"><pre>SimpleImputer(fill_value=&#x27;Missing&#x27;, strategy=&#x27;constant&#x27;)</pre></div></div></div><div class=\"sk-item\"><div class=\"sk-estimator sk-toggleable\"><input class=\"sk-toggleable__control sk-hidden--visually\" id=\"f7734b44-6795-42b2-808a-478b619d3857\" type=\"checkbox\" ><label for=\"f7734b44-6795-42b2-808a-478b619d3857\" class=\"sk-toggleable__label sk-toggleable__label-arrow\">OneHotEncoder</label><div class=\"sk-toggleable__content\"><pre>OneHotEncoder(handle_unknown=&#x27;ignore&#x27;, sparse=False)</pre></div></div></div></div></div></div></div></div><div class=\"sk-parallel-item\"><div class=\"sk-item\"><div class=\"sk-label-container\"><div class=\"sk-label sk-toggleable\"><input class=\"sk-toggleable__control sk-hidden--visually\" id=\"820bf0ed-ee20-4f8e-bfc5-8eb8b743004f\" type=\"checkbox\" ><label for=\"820bf0ed-ee20-4f8e-bfc5-8eb8b743004f\" class=\"sk-toggleable__label sk-toggleable__label-arrow\">pipeline-2</label><div class=\"sk-toggleable__content\"><pre>&lt;sklearn.compose._column_transformer.make_column_selector object at 0x7fae03ac9810&gt;</pre></div></div></div><div class=\"sk-serial\"><div class=\"sk-item\"><div class=\"sk-serial\"><div class=\"sk-item\"><div class=\"sk-estimator sk-toggleable\"><input class=\"sk-toggleable__control sk-hidden--visually\" id=\"652e7c0d-c476-4d6d-b998-d9fae1e0f2c5\" type=\"checkbox\" ><label for=\"652e7c0d-c476-4d6d-b998-d9fae1e0f2c5\" class=\"sk-toggleable__label sk-toggleable__label-arrow\">SimpleImputer</label><div class=\"sk-toggleable__content\"><pre>SimpleImputer()</pre></div></div></div><div class=\"sk-item\"><div class=\"sk-estimator sk-toggleable\"><input class=\"sk-toggleable__control sk-hidden--visually\" id=\"747278a2-99f9-48cb-b4b9-ec011bcba26b\" type=\"checkbox\" ><label for=\"747278a2-99f9-48cb-b4b9-ec011bcba26b\" class=\"sk-toggleable__label sk-toggleable__label-arrow\">StandardScaler</label><div class=\"sk-toggleable__content\"><pre>StandardScaler()</pre></div></div></div></div></div></div></div></div><div class=\"sk-parallel-item\"><div class=\"sk-item\"><div class=\"sk-label-container\"><div class=\"sk-label sk-toggleable\"><input class=\"sk-toggleable__control sk-hidden--visually\" id=\"a9081819-a7ca-4fff-9936-949ad2326ba3\" type=\"checkbox\" ><label for=\"a9081819-a7ca-4fff-9936-949ad2326ba3\" class=\"sk-toggleable__label sk-toggleable__label-arrow\">remainder</label><div class=\"sk-toggleable__content\"><pre>[]</pre></div></div></div><div class=\"sk-serial\"><div class=\"sk-item\"><div class=\"sk-estimator sk-toggleable\"><input class=\"sk-toggleable__control sk-hidden--visually\" id=\"d1a74735-3ff7-4611-9f5b-84606d66409a\" type=\"checkbox\" ><label for=\"d1a74735-3ff7-4611-9f5b-84606d66409a\" class=\"sk-toggleable__label sk-toggleable__label-arrow\">passthrough</label><div class=\"sk-toggleable__content\"><pre>passthrough</pre></div></div></div></div></div></div></div></div><div class=\"sk-item\"><div class=\"sk-estimator sk-toggleable\"><input class=\"sk-toggleable__control sk-hidden--visually\" id=\"6bfccc82-cf4f-4c9f-b09a-5c5bb3a9d321\" type=\"checkbox\" ><label for=\"6bfccc82-cf4f-4c9f-b09a-5c5bb3a9d321\" class=\"sk-toggleable__label sk-toggleable__label-arrow\">DecisionTreeRegressor</label><div class=\"sk-toggleable__content\"><pre>DecisionTreeRegressor(random_state=42)</pre></div></div></div></div></div></div></div>"
            ]
          },
          "metadata": {},
          "execution_count": 166
        }
      ]
    },
    {
      "cell_type": "markdown",
      "source": [
        "- [X] Build a simple regression tree model.\n"
      ],
      "metadata": {
        "id": "sRrwl10wop_b"
      }
    },
    {
      "cell_type": "code",
      "source": [
        "train_preds = dec_tree_pipe.predict(X_train)\n",
        "test_preds = dec_tree_pipe.predict(X_test)"
      ],
      "metadata": {
        "id": "k6cmfZ5brFf8"
      },
      "execution_count": 167,
      "outputs": []
    },
    {
      "cell_type": "code",
      "source": [
        "print('Train')\n",
        "eval_regression(y_train, train_preds)\n",
        "print('\\nTest')\n",
        "eval_regression(y_test, test_preds)"
      ],
      "metadata": {
        "colab": {
          "base_uri": "https://localhost:8080/"
        },
        "id": "yJD-KCd7r7xC",
        "outputId": "c6868394-7525-4e07-b704-9631874ac965"
      },
      "execution_count": 168,
      "outputs": [
        {
          "output_type": "stream",
          "name": "stdout",
          "text": [
            "Train\n",
            "MAE 1.6007220580327663e-16,\n",
            " MSE 3.0330171474830394e-29,\n",
            " RMSE: 5.50728349323243e-15,\n",
            " R^2: 1.0 \n",
            "\n",
            "Test\n",
            "MAE 1044.290584702018,\n",
            " MSE 2248752.903184245,\n",
            " RMSE: 1499.584243443577,\n",
            " R^2: 0.18493243379615865 \n"
          ]
        }
      ]
    },
    {
      "cell_type": "markdown",
      "source": [
        "- [X] Compare the performance of your model based on r^2.\n"
      ],
      "metadata": {
        "id": "EHA-fi_PrhC0"
      }
    },
    {
      "cell_type": "markdown",
      "source": [
        "- Looks like we have now overfitted, because our r^2 score for our training data is perfect, but the test data score is down to 18%."
      ],
      "metadata": {
        "id": "garBjDljsNCf"
      }
    },
    {
      "cell_type": "markdown",
      "source": [
        "- [X] Compare the performance of your model based on rmse."
      ],
      "metadata": {
        "id": "auvl9vaArkTE"
      }
    },
    {
      "cell_type": "markdown",
      "source": [
        "- The RMSE went up with this model to 1499, which indicates that there is a lot of error with this model."
      ],
      "metadata": {
        "id": "94TrGwFatElX"
      }
    },
    {
      "cell_type": "markdown",
      "source": [
        "## 3. [X] You now have tried 2 different models on your data set. You need to determine which model to implement.\n"
      ],
      "metadata": {
        "id": "t85CR7NPuDIg"
      }
    },
    {
      "cell_type": "markdown",
      "source": [
        "- [X] Overall, which model do you recommend?\n"
      ],
      "metadata": {
        "id": "CUf8F8fTxu1X"
      }
    },
    {
      "cell_type": "markdown",
      "source": [
        "- Between the linear regression model and the regression tree model, I would recommend the linear regression model."
      ],
      "metadata": {
        "id": "DjF6BFBtx0rV"
      }
    },
    {
      "cell_type": "markdown",
      "source": [
        "- [X] Justify your recommendation."
      ],
      "metadata": {
        "id": "90Z9Wr9IxxWe"
      }
    },
    {
      "cell_type": "markdown",
      "source": [
        "- Although the simple regression tree model learned our training data perfectly, it is completly unable to handle new data such as our test data."
      ],
      "metadata": {
        "id": "gsKSG6NWzih4"
      }
    }
  ]
}